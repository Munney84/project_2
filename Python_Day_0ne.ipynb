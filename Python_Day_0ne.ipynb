{
  "nbformat": 4,
  "nbformat_minor": 0,
  "metadata": {
    "colab": {
      "name": "Python Day 0ne",
      "provenance": [],
      "include_colab_link": true
    },
    "kernelspec": {
      "name": "python3",
      "display_name": "Python 3"
    },
    "language_info": {
      "name": "python"
    }
  },
  "cells": [
    {
      "cell_type": "markdown",
      "metadata": {
        "id": "view-in-github",
        "colab_type": "text"
      },
      "source": [
        "<a href=\"https://colab.research.google.com/github/Munney84/project_2/blob/main/Python_Day_0ne.ipynb\" target=\"_parent\"><img src=\"https://colab.research.google.com/assets/colab-badge.svg\" alt=\"Open In Colab\"/></a>"
      ]
    },
    {
      "cell_type": "markdown",
      "source": [
        "# Python Day 1\n",
        "\n",
        "---\n",
        "\n",
        "### Learning Objectives\n",
        "- Explore Python control flow, operators, and types of data.\n",
        "- Demonstrate your abilty to work with differnet types of data."
      ],
      "metadata": {
        "id": "NMu9U8T0BsUF"
      }
    },
    {
      "cell_type": "markdown",
      "source": [
        "----\n",
        "## Data Types\n",
        "---"
      ],
      "metadata": {
        "id": "ns12ATWXDLND"
      }
    },
    {
      "cell_type": "markdown",
      "source": [
        "### Strings\n",
        "- 'Tyrone'\n",
        "- \"Tyrone\"\n",
        "- x = \"Tyrone\""
      ],
      "metadata": {
        "id": "MHYi7YutDLiT"
      }
    },
    {
      "cell_type": "markdown",
      "source": [
        "### Floats\n",
        "- 1.5\n",
        "- x = 1.5"
      ],
      "metadata": {
        "id": "5vjQUQDYDLvn"
      }
    },
    {
      "cell_type": "markdown",
      "source": [
        "### Integer\n",
        "- 1\n",
        "- x = 1"
      ],
      "metadata": {
        "id": "Jl0oWokGDL6M"
      }
    },
    {
      "cell_type": "markdown",
      "source": [
        "### Boolean\n",
        "- True\n",
        "- False"
      ],
      "metadata": {
        "id": "qxPoDCwrNKf5"
      }
    },
    {
      "cell_type": "markdown",
      "source": [
        "### list\n",
        "- [1, 2, 3, 4]\n",
        "- x = [1, 2, 3, 4]\n"
      ],
      "metadata": {
        "id": "0F_j6nRyNLCW"
      }
    },
    {
      "cell_type": "markdown",
      "source": [
        "### Set\n",
        "- {1,2,3,4,4}\n",
        "- x = {1, 2, 3, 4, 4}"
      ],
      "metadata": {
        "id": "J5EIXh3cNLKq"
      }
    },
    {
      "cell_type": "markdown",
      "source": [
        "### Dictionaries\n",
        "- {'Frist name': 'Tyrone', 'Last name': 'Sanderson'}\n",
        "- x = {'Frist name': 'Tyrone', 'Last name': 'Sanderson'}"
      ],
      "metadata": {
        "id": "dsDYFYZ4NLPk"
      }
    },
    {
      "cell_type": "markdown",
      "source": [
        "### Tuples\n",
        "- (1,2,3,4,5)\n",
        "- x = (1,2,3,4,5)"
      ],
      "metadata": {
        "id": "t-FMZ6sXNLTn"
      }
    },
    {
      "cell_type": "markdown",
      "source": [
        "----\n",
        "## Operators\n",
        "---"
      ],
      "metadata": {
        "id": "1lJUPopnweW5"
      }
    },
    {
      "cell_type": "markdown",
      "source": [
        "### Sepuential Sataments\n",
        "- `(1+1)*5+4-1`"
      ],
      "metadata": {
        "id": "CjzB_EIyNLah"
      }
    },
    {
      "cell_type": "markdown",
      "source": [
        "### Arithmetic Operators\n",
        "- `+   Addition`\n",
        "- `-   Subtraction`\n",
        "- `*   Multiplication`\n",
        "- `/   Division`"
      ],
      "metadata": {
        "id": "2Jo5VeDfNLXJ"
      }
    },
    {
      "cell_type": "markdown",
      "source": [
        "### Assignment Operators\n",
        "- `=   Assign a value to an object`\n",
        "- `-=   Subtraction to an object`\n",
        "- `+=   Addition to an object`\n",
        "- `*=  Multiplication to an object`"
      ],
      "metadata": {
        "id": "4Vc_M6UTb1sI"
      }
    },
    {
      "cell_type": "markdown",
      "source": [
        "### Comparison Operators\n",
        "- `==\tEqual`\t\t\n",
        "- `!=\tNot equal`\t\t\n",
        "- `>\tGreater than`\t\n",
        "- `<\tLess than`\t\t\n",
        "- `>=\tGreater than or equal to`\t\n",
        "- `<=\tLess than or equal to`"
      ],
      "metadata": {
        "id": "ClKhzC2yb1U0"
      }
    },
    {
      "cell_type": "markdown",
      "source": [
        "### Logical Operators\n",
        "- `\"and\"  returns true if both are true `\n",
        "- `\"or\" retunes true if one is true `\n",
        "- `\"not\" if reuslts are reverse`"
      ],
      "metadata": {
        "id": "cdP68-aAb0rO"
      }
    },
    {
      "cell_type": "markdown",
      "source": [
        "----\n",
        "## Control flow\n",
        "---"
      ],
      "metadata": {
        "id": "AsqEQfWhwnn3"
      }
    },
    {
      "cell_type": "markdown",
      "source": [
        "### IF\n",
        "- if x > y: print('x is greater than y') "
      ],
      "metadata": {
        "id": "gyxGgyevNLd_"
      }
    },
    {
      "cell_type": "markdown",
      "source": [
        "### IF-ELSE\n",
        "- if x > y: print('x is greater than y') else: print('x is not greater than y')\n",
        "- if x > y: print('x is greater than y') elif x == y: print('x is equal to y') else: print('x is not greater than y') "
      ],
      "metadata": {
        "id": "2SonWYSdNLho"
      }
    },
    {
      "cell_type": "markdown",
      "source": [
        "### FOR LOOP\n",
        "- fruits = [\"apple\", \"banana\", \"cherry\"]\n",
        "for x in fruits: print (x)\n",
        "- fruits = [\"apple\", \"banana\", \"cherry\"]\n",
        "for x in fruits:\n",
        "  if x == \"banana\":\n",
        "    break\n",
        "  print(x)"
      ],
      "metadata": {
        "id": "J3v5o1VqNLlV"
      }
    },
    {
      "cell_type": "markdown",
      "source": [
        "### WHILE LOOP\n",
        "- i = 1\n",
        "while i < 6:\n",
        "  print(i)\n",
        "  i += 1\n"
      ],
      "metadata": {
        "id": "DhT9xZ5PNLox"
      }
    }
  ]
}